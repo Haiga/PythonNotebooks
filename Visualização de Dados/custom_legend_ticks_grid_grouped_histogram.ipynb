{
  "nbformat": 4,
  "nbformat_minor": 0,
  "metadata": {
    "colab": {
      "name": "grouped-histogram.ipynb",
      "provenance": []
    },
    "kernelspec": {
      "name": "python3",
      "display_name": "Python 3"
    }
  },
  "cells": [
    {
      "cell_type": "code",
      "metadata": {
        "id": "WfnFKLRMqee4",
        "colab_type": "code",
        "colab": {
          "base_uri": "https://localhost:8080/",
          "height": 288
        },
        "cellView": "form",
        "outputId": "fc9ddaba-8f8b-4ad8-805e-674f869dfacc"
      },
      "source": [
        "#@title Useful Functions (for legend, ticks, grid)\n",
        "import numpy as np\n",
        "import matplotlib.pyplot as plt\n",
        " \n",
        "# set width of bar\n",
        "barWidth = 0.25\n",
        " \n",
        "# set height of bar\n",
        "bars1 = [12, 30, 1, 8, 22, 10]\n",
        "bars2 = [28, 6, 16, 5, 10, 10]\n",
        "bars3 = [29, 3, 24, 25, 17, 15]\n",
        " \n",
        "# Set position of bar on X axis\n",
        "r1 = np.arange(len(bars1))\n",
        "r2 = [x + barWidth -0.01 for x in r1]\n",
        "r3 = [x + barWidth for x in r2]\n",
        "\n",
        "x = (r1[int(len(bars1)/2)] + r3[int(len(bars1)/2)-1])/2\n",
        "y_mins = [min(bars1), min(bars2), min(bars3)]\n",
        "y_maxs = [max(bars1), max(bars2), max(bars3)]\n",
        "\n",
        "y_min = min(y_mins)\n",
        "y_max = max(y_maxs)\n",
        "\n",
        "# ax = plt.gca()\n",
        "# ax.grid(which='major', axis='both', linestyle='--')\n",
        "\n",
        "# plt.gca().yaxis.grid(True)\n",
        "# Make the plot\n",
        "plt.bar(r1, bars1, color='#C0C0C0', width=barWidth, label='alpha = 0')\n",
        "plt.bar(r2, bars2, color='#A9A9A9', width=barWidth, label='var2')\n",
        "plt.bar(r3, bars3, color='#808080', width=barWidth, label='var3')\n",
        " \n",
        "\n",
        "# Add xticks on the middle of the group bars\n",
        "# plt.xlabel('group', fontweight='bold')\n",
        "\n",
        "# Para colocar intervalos na parte inferior personalizados\n",
        "# plt.xticks([r + barWidth for r in range(len(bars1))], ['[-90 -100]', 'B', 'C', 'D', 'E'], rotation=45)\n",
        "# plt.xticks([r for r in range(len(bars1))], ['[-90 -100]', 'B', 'C', 'D', 'E'], rotation=45, )\n",
        "\n",
        "plt.plot([x,x],[y_min - 1, y_max + 1], '--', color='gray')\n",
        "plt.ylim((y_min - 1, y_max + 1))\n",
        "# Create legend & Show graphic\n",
        "\n",
        "axes = plt.gca()\n",
        "# axes.xaxis.grid()\n",
        "# plt.rc('axes', axisbelow=True)\n",
        "# plt.rcParams['axes.axisbelow'] = True\n",
        "axes.yaxis.grid(color='gray', linestyle='dashed')\n",
        "axes.set_axisbelow(True)\n",
        "\n",
        "#Para mostrar apenas 6 valores de y na barra vertical \n",
        "axes.yaxis.set_major_locator(plt.MaxNLocator(6))\n",
        "\n",
        "#Para colocar intervalos na parte inferior personalizados\n",
        "def format_func(value, tick_number):\n",
        "    value = int(value)\n",
        "    if True:\n",
        "        return \"[\" + str(value*10) + \",\" + str((value+1) * 10) + \"]\"\n",
        "axes.xaxis.set_major_formatter(plt.FuncFormatter(format_func))\n",
        "plt.xticks(rotation=45)\n",
        "\n",
        "#Para remover a posição no eixo do tick\n",
        "axes.xaxis.set_ticks_position('none') \n",
        "axes.yaxis.set_ticks_position('none') \n",
        "\n",
        "#Coloca os x_ticks mais à esquerda\n",
        "plt.setp(axes.xaxis.get_majorticklabels(), rotation=45, ha=\"left\")\n",
        "\n",
        "from matplotlib.lines import Line2D\n",
        "\n",
        "rect1 = Line2D([], [], marker=\"s\", markersize=10, linewidth=0, color='#C0C0C0')\n",
        "rect2 = Line2D([], [], marker=\"s\", markersize=10, linewidth=0, color='#A9A9A9')\n",
        "rect3 = Line2D([], [], marker=\"s\", markersize=10, linewidth=0, color='#808080')\n",
        "\n",
        "plt.legend((rect1, rect2, rect3), ('alpha=0', 'alpha=1', 'alpha=2'))\n",
        "\n",
        "#plt.legend(handles=legend_elements)\n",
        "plt.show()"
      ],
      "execution_count": 78,
      "outputs": [
        {
          "output_type": "display_data",
          "data": {
            "image/png": "[encoded data removed]",
            "text/plain": [
              "<Figure size 432x288 with 1 Axes>"
            ]
          },
          "metadata": {
            "tags": [],
            "needs_background": "light"
          }
        }
      ]
    },
    {
      "cell_type": "code",
      "metadata": {
        "id": "FfxyvcQsk4l-",
        "colab_type": "code",
        "colab": {
          "base_uri": "https://localhost:8080/",
          "height": 279
        },
        "cellView": "form",
        "outputId": "e76c2cef-e22c-4404-fc29-759c07b1447e"
      },
      "source": [
        "#@title Inicial Plot\n",
        "import numpy as np\n",
        "import matplotlib.pyplot as plt\n",
        " \n",
        "# set width of bar\n",
        "barWidth = 0.25\n",
        " \n",
        "# set height of bar\n",
        "bars1 = [12, 30, 1, 8, 22, 10]\n",
        "bars2 = [28, 6, 16, 5, 10, 10]\n",
        "bars3 = [29, 3, 24, 25, 17, 15]\n",
        " \n",
        "# Set position of bar on X axis\n",
        "r1 = np.arange(len(bars1))\n",
        "r2 = [x + barWidth for x in r1]\n",
        "r3 = [x + barWidth for x in r2]\n",
        "\n",
        "x = (r1[int(len(bars1)/2)] + r3[int(len(bars1)/2)-1])/2\n",
        "y_mins = [min(bars1), min(bars2), min(bars3)]\n",
        "y_maxs = [max(bars1), max(bars2), max(bars3)]\n",
        "\n",
        "y_min = min(y_mins)\n",
        "y_max = max(y_maxs)\n",
        "\n",
        "# ax = plt.gca()\n",
        "# ax.grid(which='major', axis='both', linestyle='--')\n",
        "\n",
        "# plt.gca().yaxis.grid(True)\n",
        "# Make the plot\n",
        "plt.bar(r1, bars1, color='#7f6d5f', width=barWidth, edgecolor='white', label='var1')\n",
        "plt.bar(r2, bars2, color='#557f2d', width=barWidth, edgecolor='white', label='var2')\n",
        "plt.bar(r3, bars3, color='#2d7f5e', width=barWidth, edgecolor='white', label='var3')\n",
        " \n",
        "# Add xticks on the middle of the group bars\n",
        "plt.xlabel('group', fontweight='bold')\n",
        "# plt.xticks([r + barWidth for r in range(len(bars1))], ['A', 'B', 'C', 'D', 'E'])\n",
        " \n",
        "#Faz o plot dad linha tracejada no centro do histograma\n",
        "plt.plot([x,x],[y_min - 1, y_max + 1], '--', color='gray')\n",
        "plt.ylim((y_min - 1, y_max + 1))\n",
        "\n",
        "#Para adicionar as grades horizontais\n",
        "axes = plt.gca()\n",
        "axes.yaxis.grid(color='gray', linestyle='dashed')\n",
        "#Para colocar as grades horizontais abaixo da figura\n",
        "axes.set_axisbelow(True)\n",
        "\n",
        "\n",
        "plt.legend()\n",
        "plt.show()"
      ],
      "execution_count": 31,
      "outputs": [
        {
          "output_type": "display_data",
          "data": {
            "image/png": "[encoded data removed]",
            "text/plain": [
              "<Figure size 432x288 with 1 Axes>"
            ]
          },
          "metadata": {
            "tags": [],
            "needs_background": "light"
          }
        }
      ]
    },
    {
      "cell_type": "code",
      "metadata": {
        "id": "L7LrxccXqLeS",
        "colab_type": "code",
        "colab": {
          "base_uri": "https://localhost:8080/",
          "height": 279
        },
        "cellView": "form",
        "outputId": "1849ac8e-864f-442b-946a-aef228fc6970"
      },
      "source": [
        "#@title Remove White Edges\n",
        "import numpy as np\n",
        "import matplotlib.pyplot as plt\n",
        " \n",
        "# set width of bar\n",
        "barWidth = 0.25\n",
        " \n",
        "# set height of bar\n",
        "bars1 = [12, 30, 1, 8, 22, 10]\n",
        "bars2 = [28, 6, 16, 5, 10, 10]\n",
        "bars3 = [29, 3, 24, 25, 17, 15]\n",
        " \n",
        "# Set position of bar on X axis\n",
        "r1 = np.arange(len(bars1))\n",
        "r2 = [x + barWidth -0.01 for x in r1]\n",
        "r3 = [x + barWidth for x in r2]\n",
        "\n",
        "x = (r1[int(len(bars1)/2)] + r3[int(len(bars1)/2)-1])/2\n",
        "y_mins = [min(bars1), min(bars2), min(bars3)]\n",
        "y_maxs = [max(bars1), max(bars2), max(bars3)]\n",
        "\n",
        "y_min = min(y_mins)\n",
        "y_max = max(y_maxs)\n",
        "\n",
        "# ax = plt.gca()\n",
        "# ax.grid(which='major', axis='both', linestyle='--')\n",
        "\n",
        "# plt.gca().yaxis.grid(True)\n",
        "# Make the plot\n",
        "plt.bar(r1, bars1, color='#7f6d5f', width=barWidth, label='var1')\n",
        "plt.bar(r2, bars2, color='#557f2d', width=barWidth, label='var2')\n",
        "plt.bar(r3, bars3, color='#2d7f5e', width=barWidth, label='var3')\n",
        " \n",
        "# Add xticks on the middle of the group bars\n",
        "plt.xlabel('group', fontweight='bold')\n",
        "# plt.xticks([r + barWidth for r in range(len(bars1))], ['A', 'B', 'C', 'D', 'E'])\n",
        " \n",
        "plt.plot([x,x],[y_min - 1, y_max + 1], '--', color='gray')\n",
        "plt.ylim((y_min - 1, y_max + 1))\n",
        "# Create legend & Show graphic\n",
        "\n",
        "axes = plt.gca()\n",
        "# axes.xaxis.grid()\n",
        "# plt.rc('axes', axisbelow=True)\n",
        "# plt.rcParams['axes.axisbelow'] = True\n",
        "axes.yaxis.grid(color='gray', linestyle='dashed')\n",
        "axes.set_axisbelow(True)\n",
        "\n",
        "\n",
        "plt.legend()\n",
        "plt.show()"
      ],
      "execution_count": 35,
      "outputs": [
        {
          "output_type": "display_data",
          "data": {
            "image/png": "[encoded data removed]",
            "text/plain": [
              "<Figure size 432x288 with 1 Axes>"
            ]
          },
          "metadata": {
            "tags": [],
            "needs_background": "light"
          }
        }
      ]
    },
    {
      "cell_type": "code",
      "metadata": {
        "id": "LyMOMwwbvkPA",
        "colab_type": "code",
        "colab": {}
      },
      "source": [
        "#828282\n",
        "#544C4A\n",
        "#999DA0\n",
        "#BDB7AB\n",
        "\n",
        "#D3D3D3\n",
        "#C0C0C0\n",
        "#A9A9A9\n",
        "#808080\n",
        "#696969\n"
      ],
      "execution_count": 0,
      "outputs": []
    }
  ]
}