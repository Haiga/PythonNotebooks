{
  "nbformat": 4,
  "nbformat_minor": 0,
  "metadata": {
    "colab": {
      "name": "mapbox_plotly_geojson.ipynb",
      "provenance": [],
      "collapsed_sections": []
    },
    "kernelspec": {
      "name": "python3",
      "display_name": "Python 3"
    }
  },
  "cells": [
    {
      "cell_type": "code",
      "metadata": {
        "id": "FFA9_4dD3UAm",
        "colab_type": "code",
        "outputId": "4094b665-15a1-4fd3-8013-5397e84e6556",
        "colab": {
          "base_uri": "https://localhost:8080/",
          "height": 182
        }
      },
      "source": [
        "!git clone https://gist.github.com/a1e2c00b3af37542bc8f1303fed6c73b.git\n",
        "!mv ./a1e2c00b3af37542bc8f1303fed6c73b/{.,}* ./ "
      ],
      "execution_count": 0,
      "outputs": [
        {
          "output_type": "stream",
          "text": [
            "Cloning into 'a1e2c00b3af37542bc8f1303fed6c73b'...\n",
            "remote: Enumerating objects: 3, done.\u001b[K\n",
            "remote: Counting objects:  33% (1/3)\u001b[K\rremote: Counting objects:  66% (2/3)\u001b[K\rremote: Counting objects: 100% (3/3)\u001b[K\rremote: Counting objects: 100% (3/3), done.\u001b[K\n",
            "remote: Compressing objects:  50% (1/2)\u001b[K\rremote: Compressing objects: 100% (2/2)\u001b[K\rremote: Compressing objects: 100% (2/2), done.\u001b[K\n",
            "Unpacking objects:  33% (1/3)   \rUnpacking objects:  66% (2/3)   \rremote: Total 3 (delta 0), reused 0 (delta 0), pack-reused 0\u001b[K\n",
            "Unpacking objects: 100% (3/3)   \rUnpacking objects: 100% (3/3), done.\n",
            "mv: cannot move './a1e2c00b3af37542bc8f1303fed6c73b/.' to './.': Device or resource busy\n",
            "mv: cannot move './a1e2c00b3af37542bc8f1303fed6c73b/..' to './..': Device or resource busy\n",
            "mv: cannot move './a1e2c00b3af37542bc8f1303fed6c73b/.git' to './.git': Directory not empty\n"
          ],
          "name": "stdout"
        }
      ]
    },
    {
      "cell_type": "code",
      "metadata": {
        "id": "v8RQnsJA4o_g",
        "colab_type": "code",
        "colab": {}
      },
      "source": [
        "import json\n",
        "with open('pop.geojson', 'r') as f:\n",
        "    population_json = json.load(f)"
      ],
      "execution_count": 0,
      "outputs": []
    },
    {
      "cell_type": "code",
      "metadata": {
        "id": "Z2HQeugq5ab_",
        "colab_type": "code",
        "outputId": "e4b43fe6-d2bd-44db-ad19-74cfcc2bc3a3",
        "colab": {
          "base_uri": "https://localhost:8080/",
          "height": 182
        }
      },
      "source": [
        "population_json['features'][0]"
      ],
      "execution_count": 0,
      "outputs": [
        {
          "output_type": "execute_result",
          "data": {
            "text/plain": [
              "{'geometry': {'coordinates': [-41.77667, -2.90472], 'type': 'Point'},\n",
              " 'properties': {'cartodb_georef_status': True,\n",
              "  'cartodb_id': 191,\n",
              "  'created_at': '2015-02-12T22:38:03Z',\n",
              "  'nome_do_municipio': 'Parnaíba',\n",
              "  'pais': 'Brasil',\n",
              "  'populacao_estimada': 149348,\n",
              "  'updated_at': '2015-02-12T22:39:45Z'},\n",
              " 'type': 'Feature'}"
            ]
          },
          "metadata": {
            "tags": []
          },
          "execution_count": 17
        }
      ]
    },
    {
      "cell_type": "code",
      "metadata": {
        "id": "YajTxn0y5uF2",
        "colab_type": "code",
        "colab": {}
      },
      "source": [
        "import numpy as np\n",
        "\n",
        "latitude_coordinates = []\n",
        "longitude_coordinates = []\n",
        "nomes_dos_municipios = []\n",
        "populacao_estimada_dos_municipios = []\n",
        "for index in population_json['features']:\n",
        "    if index['geometry'] is None:\n",
        "        break\n",
        "    nomes_dos_municipios.append(index['properties']['nome_do_municipio'])\n",
        "    populacao_estimada_dos_municipios.append(int(index['properties']['populacao_estimada']))\n",
        "    longitude_coordinates.append(index['geometry']['coordinates'][0])\n",
        "    latitude_coordinates.append(index['geometry']['coordinates'][1])\n",
        "\n"
      ],
      "execution_count": 0,
      "outputs": []
    },
    {
      "cell_type": "code",
      "metadata": {
        "id": "OzBUbzII5-UX",
        "colab_type": "code",
        "outputId": "640f53e4-61f5-40ef-deb7-969e73cbb200",
        "colab": {
          "base_uri": "https://localhost:8080/",
          "height": 542
        }
      },
      "source": [
        "import plotly.graph_objects as go\n",
        "import numpy as np\n",
        "import matplotlib.pyplot as plt\n",
        "import random\n",
        "from pylab import *\n",
        "\n",
        "populacao_estimada_dos_municipios = np.array(populacao_estimada_dos_municipios)\n",
        "max_population = np.max(populacao_estimada_dos_municipios)\n",
        "# populacao_estimada_dos_municipios = 100*populacao_estimada_dos_municipios/max_population\n",
        "# Pensei em aplicar uma escala linear para escolher o tamanho dos círculos\n",
        "# porém há grande diferença entre as mais populosas e as menos populosas\n",
        "\n",
        "# populacao_estimada_dos_municipios = np.log2(populacao_estimada_dos_municipios)\n",
        "# com log a diferença ficou irrelevante\n",
        "\n",
        "populacao_estimada_dos_municipios = np.sqrt(populacao_estimada_dos_municipios)\n",
        "max_population = np.max(populacao_estimada_dos_municipios)\n",
        "populacao_estimada_dos_municipios = 100*populacao_estimada_dos_municipios/max_population\n",
        "\n",
        "# mapbox_access_token = open(\".mapbox_token\").read()\n",
        "#Faça ou recupe seu mapbox_access_token em https://account.mapbox.com/\n",
        "mapbox_access_token = \"xxxxxxxxxxxxx\"\n",
        "\n",
        "cmap = cm.get_cmap('BuPu', populacao_estimada_dos_municipios.size)\n",
        "hex_colors = []\n",
        "for i in range(cmap.N):\n",
        "    rgb = cmap(i)[:3]# will return rgba, we take only first 3 so we get rgb\n",
        "    hex_colors.append(matplotlib.colors.rgb2hex(rgb))\n",
        "\n",
        "indices = populacao_estimada_dos_municipios.argsort()\n",
        "hex_colors = np.array(hex_colors)\n",
        "sortedColors = hex_colors[indices]\n",
        "sortedColors = np.flip(sortedColors)\n",
        "\n",
        "fig = go.Figure(go.Scattermapbox(\n",
        "        lat=latitude_coordinates,\n",
        "        lon=longitude_coordinates,\n",
        "        mode='markers',\n",
        "        marker=go.scattermapbox.Marker(\n",
        "            size=populacao_estimada_dos_municipios,\n",
        "            color=sortedColors,\n",
        "        ),\n",
        "        text=nomes_dos_municipios,\n",
        "    ))\n",
        "\n",
        "fig.update_layout(\n",
        "    autosize=True,\n",
        "    hovermode='closest',\n",
        "    mapbox=dict(\n",
        "        accesstoken=mapbox_access_token,\n",
        "        bearing=0,\n",
        "        center=dict(\n",
        "            # lon=-49.39453125,\n",
        "            # lat=-15.707662769583505\n",
        "            lon=np.mean(longitude_coordinates),\n",
        "            lat=np.mean(latitude_coordinates),\n",
        "        ),\n",
        "        pitch=0,\n",
        "        zoom=2.5\n",
        "    ),\n",
        ")\n",
        "\n",
        "fig.show()"
      ],
      "execution_count": 0,
      "outputs": [
        {
          "output_type": "display_data",
          "data": {
            "text/html": [
              "<html>\n",
              "<head><meta charset=\"utf-8\" /></head>\n",
              "<body>\n",
              "    <div>\n",
              "            <script src=\"https://cdnjs.cloudflare.com/ajax/libs/mathjax/2.7.5/MathJax.js?config=TeX-AMS-MML_SVG\"></script><script type=\"text/javascript\">if (window.MathJax) {MathJax.Hub.Config({SVG: {font: \"STIX-Web\"}});}</script>\n",
              "                <script type=\"text/javascript\">window.PlotlyConfig = {MathJaxConfig: 'local'};</script>\n",
              "        <script src=\"https://cdn.plot.ly/plotly-latest.min.js\"></script>    \n",
              "            <div id=\"c734d848-69e5-404d-bb1e-a821b8adc6f3\" class=\"plotly-graph-div\" style=\"height:525px; width:100%;\"></div>\n",
              "            <script type=\"text/javascript\">\n",
              "                \n",
              "                    window.PLOTLYENV=window.PLOTLYENV || {};\n",
              "                    \n",
              "                if (document.getElementById(\"c734d848-69e5-404d-bb1e-a821b8adc6f3\")) {\n",
              "                    Plotly.newPlot(\n",
              "                        'c734d848-69e5-404d-bb1e-a821b8adc6f3',\n",
              "                        [{\"lat\": [-2.90472, -9.06556, -6.52392, -1.405, -4.04238, -13.44667, -7.90306, -3.26444, -9.92528, -21.97722, -1.515, -16.32667, -23.38611, -3.87667, -18.50667, -23.785, -5.30972, -11.25583, -7.51556, -1.80444, -11.23333, -23.5325, -12.96889, -8.66667, -28.81833, -9.53694, -21.205, -3.76806, -21.27472, -23.10194, -2.97333, -18.72472, -29.78333, -22.73917, -8.80778, -11.73028, -23.53306, -17.74167, -11.00861, -7.96667, -21.71028, -22.76417, -5.03806, -29.19167, -12.7275, -26.33639, -2.10417, -20.25333, -5.68167, -19.225, -12.67, -13.44111, -16.68528, -20.28389, -2.96667, -7.77833, -28.29917, -3.57972, -2.64528, -27.81611, -20.46757, -19.92083, -30.08111, -24.18472, -25.40778, -21.05278, -3.43944, -1.74833, -22.62917, -7.02194, -9.78111, -23.2325, -6.47806, -9.74833, -17.51944, -26.47306, -17.72194, -19.54917, -21.13778, -5.5375, -9.66, -16.08222, -14.95944, -31.33139, -8.1654, -7.47889, -12.36333, -13.41056, -8.14139, -6.8375, -19.88, -17.98694, -13.03028, -29.22694, -22.70861, -21.26111, -21.75778, -8.72028, -7.93333, -21.88778], \"lon\": [-41.77667, -68.65694, -49.85167, -51.64, -45.23778, -56.72139, -36.04417, -44.61972, -36.47583, -44.9325, -48.04472, -48.95278, -45.66222, -38.62556, -54.76, -53.07333, -38.92056, -39.37472, -34.90833, -50.71222, -38.48333, -46.79167, -39.26139, -35.71667, -52.51028, -36.63361, -41.88778, -60.36917, -43.17917, -47.71472, -45.34944, -47.49861, -52.73333, -47.33139, -39.82556, -40.55528, -49.24444, -48.625, -44.51944, -38.46667, -47.47806, -43.39944, -42.46, -54.86722, -39.18194, -49.90639, -56.48694, -43.80139, -43.09333, -40.85139, -39.10194, -40.43083, -44.365, -42.34111, -47.48333, -39.94111, -54.26306, -59.13056, -44.895, -50.32611, -54.62965, -43.93778, -51.02333, -53.0275, -52.41611, -49.68833, -39.14833, -52.23833, -43.89806, -45.48111, -36.09361, -51.66556, -35.43389, -37.43667, -39.19556, -49.00278, -48.15972, -42.12, -48.97278, -35.81972, -37.78944, -48.50722, -39.29972, -54.10694, -70.35486, -37.27444, -44.97333, -41.28472, -35.39583, -40.57917, -43.66972, -46.90778, -39.60472, -53.68167, -42.60972, -48.49639, -48.82889, -39.11389, -39.29583, -42.70444], \"marker\": {\"color\": [\"#8c6eb2\", \"#c9dbea\", \"#98b0d4\", \"#e3eef5\", \"#8c6bb1\", \"#a9c4de\", \"#deebf3\", \"#8c75b6\", \"#f7fcfd\", \"#831e86\", \"#863293\", \"#8c86be\", \"#c6d9e9\", \"#bcd1e5\", \"#9ebcda\", \"#8c7fbb\", \"#8c94c5\", \"#894fa4\", \"#62065f\", \"#5a0457\", \"#95aad1\", \"#909eca\", \"#5e055b\", \"#aec7e0\", \"#730b6f\", \"#a6c2dd\", \"#f5fbfc\", \"#c4d7e8\", \"#883e9b\", \"#b4cbe2\", \"#97add2\", \"#8a5aa9\", \"#6a0867\", \"#8949a1\", \"#9bb6d7\", \"#8c72b4\", \"#8c83bd\", \"#d4e3ef\", \"#8c7cb9\", \"#b9cfe4\", \"#4d004b\", \"#8b60ac\", \"#852e90\", \"#8e9bc8\", \"#821680\", \"#dce9f2\", \"#821a83\", \"#f3f9fc\", \"#81127e\", \"#8b64ae\", \"#8b5daa\", \"#c1d5e7\", \"#f1f8fb\", \"#f0f7fa\", \"#8c67af\", \"#9db9d9\", \"#852a8e\", \"#8a56a7\", \"#9ab3d5\", \"#e4eff6\", \"#ecf4f9\", \"#8c8dc2\", \"#7b0d77\", \"#eaf3f8\", \"#acc6df\", \"#873a98\", \"#cedfed\", \"#bed3e6\", \"#894ca2\", \"#ccddeb\", \"#84268b\", \"#e8f2f7\", \"#88459f\", \"#863696\", \"#a4c0dc\", \"#b1c9e1\", \"#8c91c3\", \"#8d98c7\", \"#88429d\", \"#a1bedb\", \"#e6f0f6\", \"#d1e1ee\", \"#d9e7f1\", \"#93a4cd\", \"#6f0a6b\", \"#660763\", \"#7f0f7b\", \"#842288\", \"#550253\", \"#8c78b8\", \"#51014f\", \"#eef6f9\", \"#8c8ac0\", \"#8a53a5\", \"#e1ecf4\", \"#770c73\", \"#b6cde3\", \"#d6e5f0\", \"#91a1cc\", \"#94a7cf\"], \"size\": [24.4851822063632, 12.834712510280312, 11.398511704255421, 11.1880814193953, 11.14404182223658, 8.664351241838975, 10.447016129751535, 10.336924517619776, 10.033445214348484, 9.449527164344925, 10.477902677122929, 38.119967449545854, 8.519985894575006, 29.70072757658561, 11.517454698368443, 9.214007325904124, 8.463020680465497, 12.13605372873322, 9.265707138608892, 10.242318313854078, 10.179416289901571, 52.75397041961198, 20.090681652297985, 12.806689257995993, 11.192565512711134, 10.228002848411746, 19.886943518152766, 12.011039267048716, 8.470132663020186, 12.634385618308068, 9.852778568300057, 13.847815073646139, 10.276750317287519, 30.184769475089773, 12.845185936314929, 9.974659888547208, 9.634423312327124, 17.887367002144426, 10.72272837765141, 12.222408965743407, 10.498570681739917, 43.8678457768675, 12.61212516826411, 14.255198999952468, 8.412591303933562, 9.211828713023811, 8.449016317418833, 14.053983077963375, 11.685788533060283, 9.665622277793915, 15.9985710545163, 9.847276783654234, 10.397908709942762, 8.641851516534228, 20.57116847334874, 12.196105800881126, 17.797711088803805, 12.071546984450684, 8.78215759051681, 25.251767159245027, 12.210908302817217, 99.99999999999999, 31.74454032767785, 10.923018005257582, 11.340253871458335, 11.8865674390284, 11.28151729111963, 12.296901100495536, 10.521869039145697, 8.560409755369514, 15.497553205785234, 10.189073340857133, 12.226513723674346, 10.002590879765545, 9.656896727693706, 12.65089659648077, 10.251132955877255, 9.989338419904717, 21.842820094934808, 11.738229091706527, 10.547590027452674, 10.17783875840709, 8.801334623792082, 22.08471370105739, 11.404145119910021, 11.542348298775062, 11.347685115333894, 8.80407079006247, 10.368139031617, 8.505839350787646, 13.198466698228719, 9.089213813409135, 12.278606505693116, 8.976780263623862, 15.164227897317481, 14.051554990724286, 15.139588908437984, 8.799738133907955, 8.729893294407672, 11.961305287967376]}, \"mode\": \"markers\", \"text\": [\"Parna\\u00edba\", \"Sena Madureira\", \"Cana\\u00e3 dos Caraj\\u00e1s\", \"Gurup\\u00e1\", \"Vitorino Freire\", \"S\\u00e3o Jos\\u00e9 do Rio Claro\", \"Taquaritinga do Norte\", \"Anajatuba\", \"Junqueiro\", \"Caxambu\", \"Bujaru\", \"An\\u00e1polis\", \"Paraibuna\", \"Maracana\\u00fa\", \"Coxim\", \"Cruzeiro do Oeste\", \"Banabui\\u00fa\", \"Santaluz\", \"Caapor\\u00e3\", \"Melga\\u00e7o\", \"Nova Soure\", \"Osasco\", \"Santo Ant\\u00f4nio de Jesus\", \"Catende\", \"Soledade\", \"Igaci\", \"Itaperuna\", \"Careiro\", \"Rio Pomba\", \"Tiet\\u00ea\", \"Pedro do Ros\\u00e1rio\", \"Monte Carmelo\", \"Pinheiros\", \"Americana\", \"Santa Maria da Boa Vista\", \"Piritiba\", \"Taquarituba\", \"Caldas Novas\", \"Santa Rita de C\\u00e1ssia\", \"Massap\\u00ea\", \"Santa Rita do Passa Quatro\", \"Belford Roxo\", \"Altos\", \"Santiago\", \"Sapea\\u00e7u\", \"Itai\\u00f3polis\", \"Terra Santa\", \"Itabirito\", \"Parnarama\", \"Pancas\", \"Cruz das Almas\", \"Marac\\u00e1s\", \"Cora\\u00e7\\u00e3o de Jesus\", \"Matip\\u00f3\", \"Paragominas\", \"Bodoc\\u00f3\", \"Santo \\u00c2ngelo\", \"Autazes\", \"Palmeir\\u00e2ndia\", \"Lages\", \"Amamba\\u00ed\", \"Belo Horizonte\", \"Viam\\u00e3o\", \"Goioer\\u00ea\", \"Laranjeiras do Sul\", \"Jos\\u00e9 Bonif\\u00e1cio\", \"Paraipaba\", \"Porto de Moz\", \"Pira\\u00ed\", \"S\\u00e3o Raimundo das Mangabeiras\", \"S\\u00e3o Miguel dos Campos\", \"Astorga\", \"Nova Cruz\", \"P\\u00e3o de A\\u00e7\\u00facar\", \"Alcoba\\u00e7a\", \"Guaramirim\", \"Ipameri\", \"Inhapim\", \"Catanduva\", \"Jo\\u00e3o C\\u00e2mara\", \"Canind\\u00e9 de S\\u00e3o Francisco\", \"Alex\\u00e2nia\", \"Buerarema\", \"Bag\\u00e9\", \"Feij\\u00f3\", \"S\\u00e3o Jos\\u00e9 do Egito\", \"S\\u00e3o Desid\\u00e9rio\", \"Ibicoara\", \"Pombos\", \"Pio IX\", \"Caet\\u00e9\", \"Vazante\", \"Amargosa\", \"J\\u00falio de Castilhos\", \"Rio Bonito\", \"Monte Alto\", \"Ibitinga\", \"Abar\\u00e9\", \"Serrita\", \"Al\\u00e9m Para\\u00edba\"], \"type\": \"scattermapbox\"}],\n",
              "                        {\"autosize\": true, \"hovermode\": \"closest\", \"mapbox\": {\"accesstoken\": \"pk.eyJ1IjoicGVkcm9yZ2EiLCJhIjoiY2szdDJqdjhhMGJvMTNncXZkNzA3cmswNiJ9.eANYff6YeRZOzIBWcFF_gg\", \"bearing\": 0, \"center\": {\"lat\": -14.600084500000001, \"lon\": -45.5335975}, \"pitch\": 0, \"zoom\": 2.5}, \"template\": {\"data\": {\"bar\": [{\"error_x\": {\"color\": \"#2a3f5f\"}, \"error_y\": {\"color\": \"#2a3f5f\"}, \"marker\": {\"line\": {\"color\": \"#E5ECF6\", \"width\": 0.5}}, \"type\": \"bar\"}], \"barpolar\": [{\"marker\": {\"line\": {\"color\": \"#E5ECF6\", \"width\": 0.5}}, \"type\": \"barpolar\"}], \"carpet\": [{\"aaxis\": {\"endlinecolor\": \"#2a3f5f\", \"gridcolor\": \"white\", \"linecolor\": \"white\", \"minorgridcolor\": \"white\", \"startlinecolor\": \"#2a3f5f\"}, \"baxis\": {\"endlinecolor\": \"#2a3f5f\", \"gridcolor\": \"white\", \"linecolor\": \"white\", \"minorgridcolor\": \"white\", \"startlinecolor\": \"#2a3f5f\"}, \"type\": \"carpet\"}], \"choropleth\": [{\"colorbar\": {\"outlinewidth\": 0, \"ticks\": \"\"}, \"type\": \"choropleth\"}], \"contour\": [{\"colorbar\": {\"outlinewidth\": 0, \"ticks\": \"\"}, \"colorscale\": [[0.0, \"#0d0887\"], [0.1111111111111111, \"#46039f\"], [0.2222222222222222, \"#7201a8\"], [0.3333333333333333, \"#9c179e\"], [0.4444444444444444, \"#bd3786\"], [0.5555555555555556, \"#d8576b\"], [0.6666666666666666, \"#ed7953\"], [0.7777777777777778, \"#fb9f3a\"], [0.8888888888888888, \"#fdca26\"], [1.0, \"#f0f921\"]], \"type\": \"contour\"}], \"contourcarpet\": [{\"colorbar\": {\"outlinewidth\": 0, \"ticks\": \"\"}, \"type\": \"contourcarpet\"}], \"heatmap\": [{\"colorbar\": {\"outlinewidth\": 0, \"ticks\": \"\"}, \"colorscale\": [[0.0, \"#0d0887\"], [0.1111111111111111, \"#46039f\"], [0.2222222222222222, \"#7201a8\"], [0.3333333333333333, \"#9c179e\"], [0.4444444444444444, \"#bd3786\"], [0.5555555555555556, \"#d8576b\"], [0.6666666666666666, \"#ed7953\"], [0.7777777777777778, \"#fb9f3a\"], [0.8888888888888888, \"#fdca26\"], [1.0, \"#f0f921\"]], \"type\": \"heatmap\"}], \"heatmapgl\": [{\"colorbar\": {\"outlinewidth\": 0, \"ticks\": \"\"}, \"colorscale\": [[0.0, \"#0d0887\"], [0.1111111111111111, \"#46039f\"], [0.2222222222222222, \"#7201a8\"], [0.3333333333333333, \"#9c179e\"], [0.4444444444444444, \"#bd3786\"], [0.5555555555555556, \"#d8576b\"], [0.6666666666666666, \"#ed7953\"], [0.7777777777777778, \"#fb9f3a\"], [0.8888888888888888, \"#fdca26\"], [1.0, \"#f0f921\"]], \"type\": \"heatmapgl\"}], \"histogram\": [{\"marker\": {\"colorbar\": {\"outlinewidth\": 0, \"ticks\": \"\"}}, \"type\": \"histogram\"}], \"histogram2d\": [{\"colorbar\": {\"outlinewidth\": 0, \"ticks\": \"\"}, \"colorscale\": [[0.0, \"#0d0887\"], [0.1111111111111111, \"#46039f\"], [0.2222222222222222, \"#7201a8\"], [0.3333333333333333, \"#9c179e\"], [0.4444444444444444, \"#bd3786\"], [0.5555555555555556, \"#d8576b\"], [0.6666666666666666, \"#ed7953\"], [0.7777777777777778, \"#fb9f3a\"], [0.8888888888888888, \"#fdca26\"], [1.0, \"#f0f921\"]], \"type\": \"histogram2d\"}], \"histogram2dcontour\": [{\"colorbar\": {\"outlinewidth\": 0, \"ticks\": \"\"}, \"colorscale\": [[0.0, \"#0d0887\"], [0.1111111111111111, \"#46039f\"], [0.2222222222222222, \"#7201a8\"], [0.3333333333333333, \"#9c179e\"], [0.4444444444444444, \"#bd3786\"], [0.5555555555555556, \"#d8576b\"], [0.6666666666666666, \"#ed7953\"], [0.7777777777777778, \"#fb9f3a\"], [0.8888888888888888, \"#fdca26\"], [1.0, \"#f0f921\"]], \"type\": \"histogram2dcontour\"}], \"mesh3d\": [{\"colorbar\": {\"outlinewidth\": 0, \"ticks\": \"\"}, \"type\": \"mesh3d\"}], \"parcoords\": [{\"line\": {\"colorbar\": {\"outlinewidth\": 0, \"ticks\": \"\"}}, \"type\": \"parcoords\"}], \"pie\": [{\"automargin\": true, \"type\": \"pie\"}], \"scatter\": [{\"marker\": {\"colorbar\": {\"outlinewidth\": 0, \"ticks\": \"\"}}, \"type\": \"scatter\"}], \"scatter3d\": [{\"line\": {\"colorbar\": {\"outlinewidth\": 0, \"ticks\": \"\"}}, \"marker\": {\"colorbar\": {\"outlinewidth\": 0, \"ticks\": \"\"}}, \"type\": \"scatter3d\"}], \"scattercarpet\": [{\"marker\": {\"colorbar\": {\"outlinewidth\": 0, \"ticks\": \"\"}}, \"type\": \"scattercarpet\"}], \"scattergeo\": [{\"marker\": {\"colorbar\": {\"outlinewidth\": 0, \"ticks\": \"\"}}, \"type\": \"scattergeo\"}], \"scattergl\": [{\"marker\": {\"colorbar\": {\"outlinewidth\": 0, \"ticks\": \"\"}}, \"type\": \"scattergl\"}], \"scattermapbox\": [{\"marker\": {\"colorbar\": {\"outlinewidth\": 0, \"ticks\": \"\"}}, \"type\": \"scattermapbox\"}], \"scatterpolar\": [{\"marker\": {\"colorbar\": {\"outlinewidth\": 0, \"ticks\": \"\"}}, \"type\": \"scatterpolar\"}], \"scatterpolargl\": [{\"marker\": {\"colorbar\": {\"outlinewidth\": 0, \"ticks\": \"\"}}, \"type\": \"scatterpolargl\"}], \"scatterternary\": [{\"marker\": {\"colorbar\": {\"outlinewidth\": 0, \"ticks\": \"\"}}, \"type\": \"scatterternary\"}], \"surface\": [{\"colorbar\": {\"outlinewidth\": 0, \"ticks\": \"\"}, \"colorscale\": [[0.0, \"#0d0887\"], [0.1111111111111111, \"#46039f\"], [0.2222222222222222, \"#7201a8\"], [0.3333333333333333, \"#9c179e\"], [0.4444444444444444, \"#bd3786\"], [0.5555555555555556, \"#d8576b\"], [0.6666666666666666, \"#ed7953\"], [0.7777777777777778, \"#fb9f3a\"], [0.8888888888888888, \"#fdca26\"], [1.0, \"#f0f921\"]], \"type\": \"surface\"}], \"table\": [{\"cells\": {\"fill\": {\"color\": \"#EBF0F8\"}, \"line\": {\"color\": \"white\"}}, \"header\": {\"fill\": {\"color\": \"#C8D4E3\"}, \"line\": {\"color\": \"white\"}}, \"type\": \"table\"}]}, \"layout\": {\"annotationdefaults\": {\"arrowcolor\": \"#2a3f5f\", \"arrowhead\": 0, \"arrowwidth\": 1}, \"coloraxis\": {\"colorbar\": {\"outlinewidth\": 0, \"ticks\": \"\"}}, \"colorscale\": {\"diverging\": [[0, \"#8e0152\"], [0.1, \"#c51b7d\"], [0.2, \"#de77ae\"], [0.3, \"#f1b6da\"], [0.4, \"#fde0ef\"], [0.5, \"#f7f7f7\"], [0.6, \"#e6f5d0\"], [0.7, \"#b8e186\"], [0.8, \"#7fbc41\"], [0.9, \"#4d9221\"], [1, \"#276419\"]], \"sequential\": [[0.0, \"#0d0887\"], [0.1111111111111111, \"#46039f\"], [0.2222222222222222, \"#7201a8\"], [0.3333333333333333, \"#9c179e\"], [0.4444444444444444, \"#bd3786\"], [0.5555555555555556, \"#d8576b\"], [0.6666666666666666, \"#ed7953\"], [0.7777777777777778, \"#fb9f3a\"], [0.8888888888888888, \"#fdca26\"], [1.0, \"#f0f921\"]], \"sequentialminus\": [[0.0, \"#0d0887\"], [0.1111111111111111, \"#46039f\"], [0.2222222222222222, \"#7201a8\"], [0.3333333333333333, \"#9c179e\"], [0.4444444444444444, \"#bd3786\"], [0.5555555555555556, \"#d8576b\"], [0.6666666666666666, \"#ed7953\"], [0.7777777777777778, \"#fb9f3a\"], [0.8888888888888888, \"#fdca26\"], [1.0, \"#f0f921\"]]}, \"colorway\": [\"#636efa\", \"#EF553B\", \"#00cc96\", \"#ab63fa\", \"#FFA15A\", \"#19d3f3\", \"#FF6692\", \"#B6E880\", \"#FF97FF\", \"#FECB52\"], \"font\": {\"color\": \"#2a3f5f\"}, \"geo\": {\"bgcolor\": \"white\", \"lakecolor\": \"white\", \"landcolor\": \"#E5ECF6\", \"showlakes\": true, \"showland\": true, \"subunitcolor\": \"white\"}, \"hoverlabel\": {\"align\": \"left\"}, \"hovermode\": \"closest\", \"mapbox\": {\"style\": \"light\"}, \"paper_bgcolor\": \"white\", \"plot_bgcolor\": \"#E5ECF6\", \"polar\": {\"angularaxis\": {\"gridcolor\": \"white\", \"linecolor\": \"white\", \"ticks\": \"\"}, \"bgcolor\": \"#E5ECF6\", \"radialaxis\": {\"gridcolor\": \"white\", \"linecolor\": \"white\", \"ticks\": \"\"}}, \"scene\": {\"xaxis\": {\"backgroundcolor\": \"#E5ECF6\", \"gridcolor\": \"white\", \"gridwidth\": 2, \"linecolor\": \"white\", \"showbackground\": true, \"ticks\": \"\", \"zerolinecolor\": \"white\"}, \"yaxis\": {\"backgroundcolor\": \"#E5ECF6\", \"gridcolor\": \"white\", \"gridwidth\": 2, \"linecolor\": \"white\", \"showbackground\": true, \"ticks\": \"\", \"zerolinecolor\": \"white\"}, \"zaxis\": {\"backgroundcolor\": \"#E5ECF6\", \"gridcolor\": \"white\", \"gridwidth\": 2, \"linecolor\": \"white\", \"showbackground\": true, \"ticks\": \"\", \"zerolinecolor\": \"white\"}}, \"shapedefaults\": {\"line\": {\"color\": \"#2a3f5f\"}}, \"ternary\": {\"aaxis\": {\"gridcolor\": \"white\", \"linecolor\": \"white\", \"ticks\": \"\"}, \"baxis\": {\"gridcolor\": \"white\", \"linecolor\": \"white\", \"ticks\": \"\"}, \"bgcolor\": \"#E5ECF6\", \"caxis\": {\"gridcolor\": \"white\", \"linecolor\": \"white\", \"ticks\": \"\"}}, \"title\": {\"x\": 0.05}, \"xaxis\": {\"automargin\": true, \"gridcolor\": \"white\", \"linecolor\": \"white\", \"ticks\": \"\", \"title\": {\"standoff\": 15}, \"zerolinecolor\": \"white\", \"zerolinewidth\": 2}, \"yaxis\": {\"automargin\": true, \"gridcolor\": \"white\", \"linecolor\": \"white\", \"ticks\": \"\", \"title\": {\"standoff\": 15}, \"zerolinecolor\": \"white\", \"zerolinewidth\": 2}}}},\n",
              "                        {\"responsive\": true}\n",
              "                    ).then(function(){\n",
              "                            \n",
              "var gd = document.getElementById('c734d848-69e5-404d-bb1e-a821b8adc6f3');\n",
              "var x = new MutationObserver(function (mutations, observer) {{\n",
              "        var display = window.getComputedStyle(gd).display;\n",
              "        if (!display || display === 'none') {{\n",
              "            console.log([gd, 'removed!']);\n",
              "            Plotly.purge(gd);\n",
              "            observer.disconnect();\n",
              "        }}\n",
              "}});\n",
              "\n",
              "// Listen for the removal of the full notebook cells\n",
              "var notebookContainer = gd.closest('#notebook-container');\n",
              "if (notebookContainer) {{\n",
              "    x.observe(notebookContainer, {childList: true});\n",
              "}}\n",
              "\n",
              "// Listen for the clearing of the current output cell\n",
              "var outputEl = gd.closest('.output');\n",
              "if (outputEl) {{\n",
              "    x.observe(outputEl, {childList: true});\n",
              "}}\n",
              "\n",
              "                        })\n",
              "                };\n",
              "                \n",
              "            </script>\n",
              "        </div>\n",
              "</body>\n",
              "</html>"
            ]
          },
          "metadata": {
            "tags": []
          }
        }
      ]
    },
    {
      "cell_type": "code",
      "metadata": {
        "colab_type": "code",
        "id": "-HBDmy71LFmd",
        "colab": {}
      },
      "source": [
        "https://plotly.com/python/mapbox-county-choropleth/#indexing-by-geojson-properties\n",
        "\n",
        "https://plotly.com/python/scattermapbox/\n",
        "\n",
        "https://account.mapbox.com/"
      ],
      "execution_count": 0,
      "outputs": []
    }
  ]
}