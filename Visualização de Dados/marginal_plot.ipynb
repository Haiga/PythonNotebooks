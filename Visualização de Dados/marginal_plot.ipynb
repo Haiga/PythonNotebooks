{
  "nbformat": 4,
  "nbformat_minor": 0,
  "metadata": {
    "colab": {
      "name": "marginal-plot.ipynb",
      "provenance": [],
      "collapsed_sections": []
    },
    "kernelspec": {
      "name": "python3",
      "display_name": "Python 3"
    }
  },
  "cells": [
    {
      "cell_type": "code",
      "metadata": {
        "id": "dWw1OOqaIJmV",
        "colab_type": "code",
        "colab": {
          "base_uri": "https://localhost:8080/",
          "height": 279
        },
        "outputId": "4660cfc2-ea35-462e-9025-f35cd6a9c9ae"
      },
      "source": [
        "import matplotlib.pyplot as plt\n",
        "from matplotlib.gridspec import GridSpec\n",
        "import numpy as np\n",
        "\n",
        "x = np.random.rand(50)\n",
        "y = np.random.rand(50)\n",
        "\n",
        "fig = plt.figure()\n",
        "\n",
        "#GridSpec o plot será dividido em uma espécie de matri 4x4\n",
        "gs = GridSpec(4,4)\n",
        "\n",
        "#esse gridSpec 4x4 é uma matriz 4x4 cujos índices começam em 0 (logo vai de 0 a 3)\n",
        "#O zero representa o topo do gráfico e o 3 a parte de baixo - isso relativo ao primeiro parâmetro (abaixo o 1:4 => 1, 2, 3)\n",
        "#O zero representa a esquerda do gráfico e o 3 a parte mais a direita - isso relativo ao segundo parâmetro (abaixo o 0:3 => 0, 1, 2)\n",
        "ax_joint = fig.add_subplot(gs[1:4,0:3])\n",
        "ax_marg_x = fig.add_subplot(gs[0,0:3])\n",
        "ax_marg_y = fig.add_subplot(gs[1:4,3])\n",
        "\n",
        "#ax_joint virou um plt, assim como ax_marg_x e ax_marg_y\n",
        "#Logo é possível chamar ax_joint.scatter, ax_marg_x.scatter, ax_joint.plot, ax_joint.hist, ax_marg_x.hist(os plots padrão ...)\n",
        "ax_joint.scatter(x,y)\n",
        "\n",
        "\n",
        "#Pode ser utilizada outras bibliotecas de plot como o seaborn que faz um gráfico de distribuição com o histograma,\n",
        "# passando o parâmetro ax como uma parte do seu subplot\n",
        "#Porém usar outras bibliotecas pode fazer os x_lim e y_lim ficarem diferentes, use ax_joint.set_xlim([0, 1]) e ax_marg_y.set_xlim([0, 1]) para resolver\n",
        "#\n",
        "import seaborn as sns\n",
        "sns.distplot(x, color=\"dodgerblue\", label=\"Compact\", ax=ax_marg_x)\n",
        "# ax_marg_x.hist(x)\n",
        "\n",
        "\n",
        "#se não mudar a orientação a leitura fica difícil, pois não estará relacioando o y do ax_joint ao x do ax_marg_y\n",
        "# mudando a orientação para horizontal, ou vertical=True se usando seaborn\n",
        "# sns.distplot(y,vertical=True, color=\"dodgerblue\", label=\"Compact\", ax=ax_marg_y)\n",
        "ax_marg_y.hist(y,orientation=\"horizontal\")\n",
        "\n",
        "#Podem ser chamados os comandos padrão em qualquer plt, como mostrar ou ocultar as grades internas e externas \n",
        "ax_marg_y.grid(False)\n",
        "ax_marg_y.axis('off')\n",
        "ax_marg_x.axis('off')\n",
        "\n",
        "ax_joint.set_xlim([0, 1])\n",
        "ax_marg_x.set_xlim([0, 1])\n",
        "\n",
        "\n",
        "ax_joint.set_ylim([0, 1])\n",
        "ax_marg_y.set_ylim([0, 1])\n",
        "\n",
        "# Turn off tick labels on marginals\n",
        "# plt.setp(ax_marg_x.get_xticklabels(), visible=False)\n",
        "plt.setp(ax_marg_y.get_yticklabels(), visible=False)\n",
        "\n",
        "# Set labels on joint\n",
        "ax_joint.set_xlabel('Joint x label')\n",
        "ax_joint.set_ylabel('Joint y label')\n",
        "\n",
        "# Set labels on marginals\n",
        "ax_marg_y.set_xlabel('Marginal x label')\n",
        "ax_marg_x.set_ylabel('Marginal y label')\n",
        "plt.show()"
      ],
      "execution_count": 28,
      "outputs": [
        {
          "output_type": "display_data",
          "data": {
            "image/png": "[encoded data removed]",
            "text/plain": [
              "<Figure size 432x288 with 3 Axes>"
            ]
          },
          "metadata": {
            "tags": [],
            "needs_background": "light"
          }
        }
      ]
    },
    {
      "cell_type": "code",
      "metadata": {
        "id": "HKxyd_BGPTnO",
        "colab_type": "code",
        "colab": {}
      },
      "source": [
        "# O seaborn tem funções para marginal plot também\n",
        "# https://python-graph-gallery.com/82-marginal-plot-with-seaborn/"
      ],
      "execution_count": 0,
      "outputs": []
    }
  ]
}