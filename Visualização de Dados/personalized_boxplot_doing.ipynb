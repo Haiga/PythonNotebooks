{
  "nbformat": 4,
  "nbformat_minor": 0,
  "metadata": {
    "colab": {
      "name": "personalized-boxplot-doing.ipynb",
      "provenance": [],
      "collapsed_sections": []
    },
    "kernelspec": {
      "name": "python3",
      "display_name": "Python 3"
    }
  },
  "cells": [
    {
      "cell_type": "code",
      "metadata": {
        "id": "54hkhvuMBkNC",
        "colab_type": "code",
        "colab": {
          "base_uri": "https://localhost:8080/",
          "height": 224
        },
        "outputId": "4d674714-c0c2-43f4-c9a1-bc2543ca0f25"
      },
      "source": [
        "import numpy as np\n",
        "import matplotlib.pyplot as plt\n",
        "\n",
        "plt.clf()\n",
        "box_vet = [np.random.uniform(0, 1, 100), np.random.uniform(0, 1, 20), np.random.uniform(0, 1, 1000)]\n",
        "\n",
        "fig_dims = (6, 3)\n",
        "fig1, ax1 = plt.subplots(figsize=fig_dims)\n",
        "# fig1, ax1 = plt.subplots()\n",
        "# ax1.set_title('Basic Plot')\n",
        "\n",
        "flier_options = dict(marker='.', markersize=2)\n",
        "ax1.boxplot(box_vet, flierprops=flier_options)\n",
        "plt.xticks(fontsize=5)\n",
        "plt.yticks(fontsize=5)\n",
        "# plt.savefig(\n",
        "#     str(evaluated_fold) + '-' + evaluated_metric + '-' + str(\n",
        "#         num_users) + '-' + name_file.replace('.tsv',\n",
        "#                                                 '.png'), bbox_inches='tight')\n",
        "plt.show()\n",
        "\n"
      ],
      "execution_count": 1,
      "outputs": [
        {
          "output_type": "display_data",
          "data": {
            "text/plain": [
              "<Figure size 432x288 with 0 Axes>"
            ]
          },
          "metadata": {
            "tags": []
          }
        },
        {
          "output_type": "display_data",
          "data": {
            "image/png": "[encoded data removed]",
            "text/plain": [
              "<Figure size 432x216 with 1 Axes>"
            ]
          },
          "metadata": {
            "tags": [],
            "needs_background": "light"
          }
        }
      ]
    }
  ]
}