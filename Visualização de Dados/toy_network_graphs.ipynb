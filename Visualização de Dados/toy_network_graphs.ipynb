{
  "nbformat": 4,
  "nbformat_minor": 0,
  "metadata": {
    "colab": {
      "name": "toy-network-graphs.ipynb",
      "provenance": [],
      "collapsed_sections": []
    },
    "kernelspec": {
      "name": "python3",
      "display_name": "Python 3"
    }
  },
  "cells": [
    {
      "cell_type": "code",
      "metadata": {
        "id": "qgh1xYJGphTL",
        "colab_type": "code",
        "colab": {}
      },
      "source": [
        "!pip uninstall networkx\n",
        "!pip install networkx"
      ],
      "execution_count": 0,
      "outputs": []
    },
    {
      "cell_type": "code",
      "metadata": {
        "id": "OvRKUZYyn3cv",
        "colab_type": "code",
        "colab": {
          "base_uri": "https://localhost:8080/",
          "height": 319
        },
        "outputId": "e9953ed8-8ab3-420f-8315-37723003aac7"
      },
      "source": [
        "# libraries\n",
        "import pandas as pd\n",
        "import numpy as np\n",
        "import networkx as nx\n",
        "import matplotlib.pyplot as plt\n",
        " \n",
        "\n",
        "# Build your graph\n",
        "\n",
        "G=nx.Graph()\n",
        "G.add_node(\"a\")\n",
        "G.add_nodes_from([\"b\",\"c\"])\n",
        "edge = (\"a\", \"b\")\n",
        "G.add_edge(*edge)\n",
        "\n",
        "# Fruchterman Reingold\n",
        "# nx.draw(G, with_labels=True, node_size=1500, node_color=\"skyblue\", pos=nx.fruchterman_reingold_layout(G))\n",
        "# plt.title(\"fruchterman_reingold\")\n",
        " \n",
        "# Circular\n",
        "# nx.draw(G, with_labels=True, node_size=1500, node_color=\"skyblue\", pos=nx.circular_layout(G))\n",
        "# plt.title(\"circular\")\n",
        " \n",
        "# # Random\n",
        "# nx.draw(G, with_labels=True, node_size=1500, node_color=\"skyblue\", pos=nx.random_layout(G))\n",
        "# plt.title(\"random\")\n",
        " \n",
        "# # Spectral\n",
        "# nx.draw(G, with_labels=True, node_size=1500, node_color=\"skyblue\", pos=nx.spectral_layout(G))\n",
        "# plt.title(\"spectral\")\n",
        " \n",
        "# # Spring\n",
        "fig = plt.figure(figsize=(5,5))\n",
        "ax = fig.add_subplot(111)\n",
        "nx.draw(G, with_labels=True, node_size=1500, node_color=\"skyblue\", pos=nx.spring_layout(G), ax=ax)\n",
        "plt.title(\"spring\")\n",
        "pass"
      ],
      "execution_count": 24,
      "outputs": [
        {
          "output_type": "display_data",
          "data": {
            "image/png": "[encoded data removed]",
            "text/plain": [
              "<Figure size 360x360 with 1 Axes>"
            ]
          },
          "metadata": {
            "tags": []
          }
        }
      ]
    }
  ]
}